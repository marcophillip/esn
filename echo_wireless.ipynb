{
 "cells": [
  {
   "cell_type": "code",
   "execution_count": 1,
   "id": "47f5fc00",
   "metadata": {},
   "outputs": [],
   "source": [
    "import sys\n",
    "import matplotlib.pyplot as plt\n",
    "from reservoirpy.nodes import Reservoir, Ridge, Input,ESN\n",
    "from reservoirpy.nodes.activations import Sigmoid\n",
    "import numpy as np\n",
    "import reservoirpy\n",
    "from reservoirpy.mat_gen import uniform,generate_input_weights\n",
    "reservoirpy.set_seed(42)\n",
    "np.random.seed(42)"
   ]
  },
  {
   "cell_type": "code",
   "execution_count": 2,
   "id": "262a24aa",
   "metadata": {},
   "outputs": [],
   "source": [
    "channel =[0.3040, 0.9030, 0.3040]\n",
    "train_num_samples=5000\n",
    "test_num_samples=500\n",
    "lr=0.1   # leaky integration rate\n",
    "sr=0.9   # spectral radius\n"
   ]
  },
  {
   "cell_type": "code",
   "execution_count": 3,
   "id": "bd51f9a4",
   "metadata": {},
   "outputs": [],
   "source": [
    "# from reservoirpy.mat_gen import uniform,generate_input_weights\n",
    "# W = uniform(50,50, low=-1, high=1, connectivity=0.1, sr=0.9)           # weights of the reservoir\n",
    "# Win = generate_input_weights(50,steps,dist=\"uniform\",connectivity=0.1)  # inputs weights"
   ]
  },
  {
   "cell_type": "code",
   "execution_count": 4,
   "id": "cb485088",
   "metadata": {},
   "outputs": [],
   "source": [
    "# W.toarray()"
   ]
  },
  {
   "cell_type": "code",
   "execution_count": 5,
   "id": "ea2dffd2",
   "metadata": {},
   "outputs": [],
   "source": [
    "# Win.toarray()"
   ]
  },
  {
   "cell_type": "code",
   "execution_count": 6,
   "id": "0102b467",
   "metadata": {},
   "outputs": [],
   "source": [
    "import numpy as np\n",
    "from functools import partial\n",
    "\n",
    "def apply_nonlinear(f:str,v_k):\n",
    "    \"\"\"\n",
    "    @param f: specifies whether to modify the input v_k\n",
    "    @param v_k: input after channel convolution\n",
    "    \"\"\"\n",
    "    if f == None:\n",
    "        v_k = v_k\n",
    "    elif f == 'tanh':\n",
    "        v_k = np.tanh(v_k)\n",
    "    \n",
    "    elif f =='poly':\n",
    "        v_k = v_k +0.2*np.power(v_k,2) - 0.1*np.power(v_k,3)\n",
    "\n",
    "    return v_k\n",
    "\n",
    "\n",
    "def generate_noise(db:int,len_sequence:int):\n",
    "    \"\"\"\n",
    "    Generate white noise based on db\n",
    "    @param db: signal to noise ratio\n",
    "    @param len_sequence: sequence length of input\n",
    "    \n",
    "    \"\"\"\n",
    "    \n",
    "    target_noise_watts = 10**(-db/10)\n",
    "    return np.random.normal(0,np.sqrt(target_noise_watts),len_sequence)\n",
    "\n",
    "\n",
    "class EsnDataset():\n",
    "    def __init__(self,\n",
    "                 num_samples:int,\n",
    "                 steps:int,\n",
    "                 channel:list,\n",
    "                 db:int=15)->None:\n",
    "        \"\"\"\n",
    "        @param num_samples: sequence length to be generated\n",
    "        @param steps : sliding window length\n",
    "        @param channel: channel\n",
    "        @param db: signal to noise ratio\n",
    "        \"\"\"\n",
    "        self.num_samples = num_samples\n",
    "        self.channel=channel\n",
    "        self.steps=steps\n",
    "        self.db = db\n",
    "        \n",
    "    \n",
    "    def generate_sequence(self):\n",
    "        \"\"\"\n",
    "        Generate random sequence of binary bits\n",
    "        \"\"\"\n",
    "        pure_signal = np.random.choice((0,1),(self.num_samples))\n",
    "\n",
    "        \"\"\"\n",
    "        Apply a convolution to the signal using a channel\n",
    "        \"\"\"\n",
    "        conv_=np.convolve(self.channel,pure_signal,mode='same')\n",
    "        \"\"\"\n",
    "        Apply white noise\n",
    "        \"\"\"\n",
    "        white_noise = generate_noise(self.db,self.num_samples) \n",
    "        \"\"\"\n",
    "        Apply non linearity\n",
    "        \"\"\"\n",
    "        noisy_signal = apply_nonlinear('tanh',conv_)+white_noise\n",
    "        \n",
    "        return noisy_signal,pure_signal\n",
    "    \n",
    "    def sliding_window(self,lst:np.array,steps:int)->np.array:\n",
    "        \"\"\"\n",
    "        Function to generate a sliding window\n",
    "        \"\"\"\n",
    "        p=[]\n",
    "        lst = lst.tolist()\n",
    "        lst = list(reversed(lst))\n",
    "        for i in range(len(lst)-(steps-1)):\n",
    "            p.append(list(reversed(lst[i:i+steps])))\n",
    "        return np.array(p)\n",
    "    \n",
    "    def generate_data_sliding_window(self,pure_signal,noisy_signal):\n",
    "        pure_signal = self.sliding_window(pure_signal,self.steps)\n",
    "        noisy_signal = self.sliding_window(noisy_signal,self.steps)   \n",
    "        return noisy_signal,pure_signal\n",
    "    \n",
    "    def __getitem__(self,idx):\n",
    "        noisy_sequence,pure_sequence = self.generate_sequence()\n",
    "        noisy_signal,pure_signal=self.generate_data_sliding_window(pure_sequence,noisy_sequence)\n",
    "\n",
    "        return noisy_sequence,\\\n",
    "                pure_sequence,\\\n",
    "                noisy_signal[idx*self.num_samples:(idx+1)*self.num_samples][None,:,:],\\\n",
    "                pure_signal[idx*self.num_samples:(idx+1)*self.num_samples][:,-1][:,None]"
   ]
  },
  {
   "cell_type": "code",
   "execution_count": 7,
   "id": "d0ec0f98",
   "metadata": {},
   "outputs": [],
   "source": [
    "def data(steps,\n",
    "         connectivity=0.1,\n",
    "         spectral_radius=0.9):\n",
    "    \n",
    "    W = uniform(50,50, low=-1, high=1, connectivity=connectivity, sr=spectral_radius)           # weights of the reservoir\n",
    "    Win = generate_input_weights(50,steps,dist=\"uniform\",connectivity=connectivity)  # inputs weights\n",
    "\n",
    "    train_data = EsnDataset(num_samples=train_num_samples,steps=steps,channel=channel)\n",
    "    test_data = EsnDataset(num_samples=test_num_samples,steps=steps,channel=channel)\n",
    "\n",
    "    train_sequence_x,train_sequence_y,train_x,train_y=iter(train_data).__next__()\n",
    "    test_sequence_x,test_sequence_y,test_x,test_y=iter(test_data).__next__()\n",
    "    \n",
    "    return train_sequence_x,train_sequence_y,train_x,train_y,\\\n",
    "            test_sequence_x,test_sequence_y,test_x,test_y,\\\n",
    "            W,Win\n",
    "    "
   ]
  },
  {
   "cell_type": "code",
   "execution_count": 8,
   "id": "862d28f7",
   "metadata": {},
   "outputs": [],
   "source": [
    "train_sequence_x,train_sequence_y,train_x,train_y,test_sequence_x,test_sequence_y,test_x,test_y,W,Win = data(2)"
   ]
  },
  {
   "cell_type": "code",
   "execution_count": 9,
   "id": "b5447856",
   "metadata": {},
   "outputs": [
    {
     "data": {
      "text/plain": [
       "((1, 4999, 2), (4999, 1))"
      ]
     },
     "execution_count": 9,
     "metadata": {},
     "output_type": "execute_result"
    }
   ],
   "source": [
    "train_x.shape,train_y.shape"
   ]
  },
  {
   "cell_type": "code",
   "execution_count": 10,
   "id": "239c016d",
   "metadata": {},
   "outputs": [
    {
     "data": {
      "text/plain": [
       "((1, 499, 2), (499, 1))"
      ]
     },
     "execution_count": 10,
     "metadata": {},
     "output_type": "execute_result"
    }
   ],
   "source": [
    "test_x.shape,test_y.shape"
   ]
  },
  {
   "cell_type": "code",
   "execution_count": 11,
   "id": "e1422c9e",
   "metadata": {},
   "outputs": [
    {
     "data": {
      "text/plain": [
       "<matplotlib.legend.Legend at 0x7fa69493b4c0>"
      ]
     },
     "execution_count": 11,
     "metadata": {},
     "output_type": "execute_result"
    },
    {
     "data": {
      "image/png": "[encoded data removed]",
      "text/plain": [
       "<Figure size 640x480 with 1 Axes>"
      ]
     },
     "metadata": {},
     "output_type": "display_data"
    }
   ],
   "source": [
    "plt.step(np.arange(len(train_sequence_x[:40])),train_sequence_x[:40])\n",
    "plt.step(np.arange(len(train_sequence_y[:40])),train_sequence_y[:40])\n",
    "plt.legend(['noisy_signal','pure_signal'])"
   ]
  },
  {
   "cell_type": "code",
   "execution_count": 12,
   "id": "fbb9454d",
   "metadata": {},
   "outputs": [
    {
     "ename": "RuntimeError",
     "evalue": "Impossible to train model Model-1 using online method: model contains untrained offline nodes.",
     "output_type": "error",
     "traceback": [
      "\u001b[0;31m---------------------------------------------------------------------------\u001b[0m",
      "\u001b[0;31mRuntimeError\u001b[0m                              Traceback (most recent call last)",
      "Cell \u001b[0;32mIn [12], line 17\u001b[0m\n\u001b[1;32m     14\u001b[0m readout \u001b[38;5;241m=\u001b[39m Ridge(ridge\u001b[38;5;241m=\u001b[39m\u001b[38;5;241m1e-7\u001b[39m)\n\u001b[1;32m     15\u001b[0m esn \u001b[38;5;241m=\u001b[39minput_ \u001b[38;5;241m>>\u001b[39m reservoir \u001b[38;5;241m>>\u001b[39m readout\n\u001b[0;32m---> 17\u001b[0m \u001b[43mesn\u001b[49m\u001b[38;5;241;43m.\u001b[39;49m\u001b[43mtrain\u001b[49m\u001b[43m(\u001b[49m\u001b[43mtrain_x\u001b[49m\u001b[43m,\u001b[49m\u001b[43mtrain_y\u001b[49m\u001b[43m)\u001b[49m\n\u001b[1;32m     19\u001b[0m pred\u001b[38;5;241m=\u001b[39mesn\u001b[38;5;241m.\u001b[39mrun(test_x)\n\u001b[1;32m     21\u001b[0m mse_loss\u001b[38;5;241m=\u001b[39m((pred\u001b[38;5;241m-\u001b[39mtest_y)\u001b[38;5;241m*\u001b[39m\u001b[38;5;241m*\u001b[39m\u001b[38;5;241m2\u001b[39m)\u001b[38;5;241m.\u001b[39mmean()\u001b[38;5;241m/\u001b[39m\u001b[38;5;28mlen\u001b[39m(pred)\n",
      "File \u001b[0;32m~/anaconda3/envs/rc/lib/python3.9/site-packages/reservoirpy/model.py:988\u001b[0m, in \u001b[0;36mModel.train\u001b[0;34m(self, X, Y, force_teachers, learn_every, from_state, stateful, reset, return_states)\u001b[0m\n\u001b[1;32m    930\u001b[0m \u001b[38;5;28;01mdef\u001b[39;00m \u001b[38;5;21mtrain\u001b[39m(\n\u001b[1;32m    931\u001b[0m     \u001b[38;5;28mself\u001b[39m,\n\u001b[1;32m    932\u001b[0m     X,\n\u001b[0;32m   (...)\u001b[0m\n\u001b[1;32m    939\u001b[0m     return_states\u001b[38;5;241m=\u001b[39m\u001b[38;5;28;01mNone\u001b[39;00m,\n\u001b[1;32m    940\u001b[0m ) \u001b[38;5;241m-\u001b[39m\u001b[38;5;241m>\u001b[39m MappedData:\n\u001b[1;32m    941\u001b[0m     \u001b[38;5;124;03m\"\"\"Train all online Nodes in the Model\u001b[39;00m\n\u001b[1;32m    942\u001b[0m \u001b[38;5;124;03m    using their online learning rule.\u001b[39;00m\n\u001b[1;32m    943\u001b[0m \n\u001b[0;32m   (...)\u001b[0m\n\u001b[1;32m    985\u001b[0m \u001b[38;5;124;03m        outputs will be null vectors.\u001b[39;00m\n\u001b[1;32m    986\u001b[0m \u001b[38;5;124;03m    \"\"\"\u001b[39;00m\n\u001b[0;32m--> 988\u001b[0m     \u001b[38;5;28;43mself\u001b[39;49m\u001b[38;5;241;43m.\u001b[39;49m\u001b[43m_check_if_only_online\u001b[49m\u001b[43m(\u001b[49m\u001b[43m)\u001b[49m\n\u001b[1;32m    990\u001b[0m     X_, Y_ \u001b[38;5;241m=\u001b[39m check_xy(\u001b[38;5;28mself\u001b[39m, X, Y, allow_n_sequences\u001b[38;5;241m=\u001b[39m\u001b[38;5;28;01mFalse\u001b[39;00m)\n\u001b[1;32m    992\u001b[0m     \u001b[38;5;28mself\u001b[39m\u001b[38;5;241m.\u001b[39m_initialize_on_sequence(X_, Y_)\n",
      "File \u001b[0;32m~/anaconda3/envs/rc/lib/python3.9/site-packages/reservoirpy/model.py:357\u001b[0m, in \u001b[0;36mModel._check_if_only_online\u001b[0;34m(self)\u001b[0m\n\u001b[1;32m    355\u001b[0m \u001b[38;5;28;01mdef\u001b[39;00m \u001b[38;5;21m_check_if_only_online\u001b[39m(\u001b[38;5;28mself\u001b[39m):\n\u001b[1;32m    356\u001b[0m     \u001b[38;5;28;01mif\u001b[39;00m \u001b[38;5;28many\u001b[39m([n\u001b[38;5;241m.\u001b[39mis_trained_offline \u001b[38;5;129;01mand\u001b[39;00m \u001b[38;5;129;01mnot\u001b[39;00m n\u001b[38;5;241m.\u001b[39mfitted \u001b[38;5;28;01mfor\u001b[39;00m n \u001b[38;5;129;01min\u001b[39;00m \u001b[38;5;28mself\u001b[39m\u001b[38;5;241m.\u001b[39mnodes]):\n\u001b[0;32m--> 357\u001b[0m         \u001b[38;5;28;01mraise\u001b[39;00m \u001b[38;5;167;01mRuntimeError\u001b[39;00m(\n\u001b[1;32m    358\u001b[0m             \u001b[38;5;124mf\u001b[39m\u001b[38;5;124m\"\u001b[39m\u001b[38;5;124mImpossible to train model \u001b[39m\u001b[38;5;132;01m{\u001b[39;00m\u001b[38;5;28mself\u001b[39m\u001b[38;5;241m.\u001b[39mname\u001b[38;5;132;01m}\u001b[39;00m\u001b[38;5;124m using \u001b[39m\u001b[38;5;124m\"\u001b[39m\n\u001b[1;32m    359\u001b[0m             \u001b[38;5;124mf\u001b[39m\u001b[38;5;124m\"\u001b[39m\u001b[38;5;124monline method: model contains untrained \u001b[39m\u001b[38;5;124m\"\u001b[39m\n\u001b[1;32m    360\u001b[0m             \u001b[38;5;124mf\u001b[39m\u001b[38;5;124m\"\u001b[39m\u001b[38;5;124moffline nodes.\u001b[39m\u001b[38;5;124m\"\u001b[39m\n\u001b[1;32m    361\u001b[0m         )\n",
      "\u001b[0;31mRuntimeError\u001b[0m: Impossible to train model Model-1 using online method: model contains untrained offline nodes."
     ]
    }
   ],
   "source": [
    "global_collect={}\n",
    "\n",
    "\n",
    "for steps in range(2,10):\n",
    "    collect=[]\n",
    "    for connectivity in np.linspace(0.1,0.9,5):\n",
    "        for spectral_radius in np.linspace(0.1,0.9,5):\n",
    "    #         s.append(spectral_radius)\n",
    "\n",
    "            train_sequence_x,train_sequence_y,train_x,train_y,test_sequence_x,test_sequence_y,test_x,test_y,W,Win = data(steps,connectivity,spectral_radius)\n",
    "\n",
    "            input_ = Input()\n",
    "            reservoir = Reservoir(50, lr=0.3,W=W,Win=Win)\n",
    "            readout = Ridge(ridge=1e-7)\n",
    "            esn =input_ >> reservoir >> readout\n",
    "            \n",
    "            esn.fit(train_x,train_y)\n",
    "\n",
    "            pred=esn.run(test_x)\n",
    "\n",
    "            mse_loss=((pred-test_y)**2).mean()/len(pred)\n",
    "\n",
    "\n",
    "            params = {str(connectivity):[spectral_radius,mse_loss]}\n",
    "            collect.append(params)\n",
    "            global_collect[str(steps)] = collect\n"
   ]
  },
  {
   "cell_type": "code",
   "execution_count": null,
   "id": "c5e939f3",
   "metadata": {
    "scrolled": true
   },
   "outputs": [],
   "source": [
    "global_collect"
   ]
  },
  {
   "cell_type": "code",
   "execution_count": null,
   "id": "e8ba0628",
   "metadata": {},
   "outputs": [],
   "source": [
    "# import json\n",
    "\n",
    "# with open('data_1.json', 'w') as fp:\n",
    "#     json.dump(global_collect, fp)"
   ]
  },
  {
   "cell_type": "code",
   "execution_count": null,
   "id": "8d1fcc28",
   "metadata": {},
   "outputs": [],
   "source": [
    "# units = 50\n",
    "# leak_rate = 0.3\n",
    "# spectral_radius = 0.9\n",
    "# input_scaling = 1.0\n",
    "# connectivity = 0.1\n",
    "# input_connectivity = 0.1\n",
    "# seed = 1234"
   ]
  },
  {
   "cell_type": "code",
   "execution_count": null,
   "id": "a11d4426",
   "metadata": {},
   "outputs": [],
   "source": [
    "# from reservoirpy.nodes import FORCE\n",
    "\n",
    "# reservoir = Reservoir(\n",
    "#                       input_scaling=input_scaling,\\\n",
    "#                       sr=spectral_radius,\n",
    "#                       lr=leak_rate, \n",
    "# #                       ?rc_connectivity=connectivity,\n",
    "#                       input_connectivity=input_connectivity, \n",
    "#                       Win=Win,\n",
    "#                       W=W,\n",
    "#                       seed=seed)\n",
    "\n",
    "# readout   = FORCE(1)\n",
    "\n",
    "\n",
    "# esn_online = reservoir >> readout"
   ]
  },
  {
   "cell_type": "code",
   "execution_count": null,
   "id": "cc8e5f01",
   "metadata": {},
   "outputs": [],
   "source": [
    "input_ = Input()\n",
    "reservoir = Reservoir(50, lr=0.3,W=W,Win=Win)\n",
    "readout = Ridge(ridge=1e-7)\n",
    "esn =input_ >> reservoir >> readout\n",
    "\n",
    "esn.train(train_x,train_y)"
   ]
  },
  {
   "cell_type": "code",
   "execution_count": null,
   "id": "a1ee67a0",
   "metadata": {},
   "outputs": [],
   "source": []
  }
 ],
 "metadata": {
  "kernelspec": {
   "display_name": "Python 3 (ipykernel)",
   "language": "python",
   "name": "python3"
  },
  "language_info": {
   "codemirror_mode": {
    "name": "ipython",
    "version": 3
   },
   "file_extension": ".py",
   "mimetype": "text/x-python",
   "name": "python",
   "nbconvert_exporter": "python",
   "pygments_lexer": "ipython3",
   "version": "3.9.13"
  }
 },
 "nbformat": 4,
 "nbformat_minor": 5
}
