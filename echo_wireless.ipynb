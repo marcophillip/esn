{
 "cells": [
  {
   "cell_type": "code",
   "execution_count": 1,
   "id": "47f5fc00",
   "metadata": {},
   "outputs": [],
   "source": [
    "import sys\n",
    "import matplotlib.pyplot as plt\n",
    "from reservoirpy.nodes import Reservoir, Ridge, Input,ESN\n",
    "from reservoirpy.nodes.activations import Sigmoid\n",
    "import numpy as np\n",
    "import reservoirpy\n",
    "reservoirpy.set_seed(42)\n",
    "np.random.seed(42)"
   ]
  },
  {
   "cell_type": "code",
   "execution_count": 2,
   "id": "262a24aa",
   "metadata": {},
   "outputs": [],
   "source": [
    "channel =[0.3040, 0.9030, 0.3040]\n",
    "train_num_samples=5000\n",
    "test_num_samples=500\n",
    "lr=0.1   # leaky integration rate\n",
    "sr=0.9   # spectral radius\n",
    "steps=2   #sliding window length"
   ]
  },
  {
   "cell_type": "code",
   "execution_count": 3,
   "id": "bd51f9a4",
   "metadata": {},
   "outputs": [],
   "source": [
    "from reservoirpy.mat_gen import uniform,generate_input_weights\n",
    "W = uniform(50,50, low=-1, high=1, connectivity=0.1, sr=0.9)           # weights of the reservoir\n",
    "Win = generate_input_weights(50,steps,dist=\"uniform\",connectivity=0.1)  # inputs weights"
   ]
  },
  {
   "cell_type": "code",
   "execution_count": 4,
   "id": "cb485088",
   "metadata": {},
   "outputs": [],
   "source": [
    "# W.toarray()"
   ]
  },
  {
   "cell_type": "code",
   "execution_count": 5,
   "id": "ea2dffd2",
   "metadata": {},
   "outputs": [],
   "source": [
    "# Win.toarray()"
   ]
  },
  {
   "cell_type": "code",
   "execution_count": 6,
   "id": "0102b467",
   "metadata": {},
   "outputs": [],
   "source": [
    "import numpy as np\n",
    "from functools import partial\n",
    "\n",
    "def apply_nonlinear(f:str,v_k):\n",
    "    \"\"\"\n",
    "    @param f: specifies whether to modify the input v_k\n",
    "    @param v_k: input after channel convolution\n",
    "    \"\"\"\n",
    "    if f == None:\n",
    "        v_k = v_k\n",
    "    elif f == 'tanh':\n",
    "        v_k = np.tanh(v_k)\n",
    "    \n",
    "    elif f =='poly':\n",
    "        v_k = v_k +0.2*np.power(v_k,2) - 0.1*np.power(v_k,3)\n",
    "\n",
    "    return v_k\n",
    "\n",
    "\n",
    "def generate_noise(db:int,len_sequence:int):\n",
    "    \"\"\"\n",
    "    Generate white noise based on db\n",
    "    @param db: signal to noise ratio\n",
    "    @param len_sequence: sequence length of input\n",
    "    \n",
    "    \"\"\"\n",
    "    \n",
    "    target_noise_watts = 10**(-db/10)\n",
    "    return np.random.normal(0,np.sqrt(target_noise_watts),len_sequence)\n",
    "\n",
    "\n",
    "class EsnDataset():\n",
    "    def __init__(self,\n",
    "                 num_samples:int,\n",
    "                 steps:int,\n",
    "                 channel:list,\n",
    "                 db:int=15)->None:\n",
    "        \"\"\"\n",
    "        @param num_samples: sequence length to be generated\n",
    "        @param steps : sliding window length\n",
    "        @param channel: channel\n",
    "        @param db: signal to noise ratio\n",
    "        \"\"\"\n",
    "        self.num_samples = num_samples\n",
    "        self.channel=channel\n",
    "        self.steps=steps\n",
    "        self.db = db\n",
    "        \n",
    "    \n",
    "    def generate_sequence(self):\n",
    "        \"\"\"\n",
    "        Generate random sequence of binary bits\n",
    "        \"\"\"\n",
    "        pure_signal = np.random.choice((0,1),(self.num_samples))\n",
    "\n",
    "        \"\"\"\n",
    "        Apply a convolution to the signal using a channel\n",
    "        \"\"\"\n",
    "        conv_=np.convolve(self.channel,pure_signal,mode='same')\n",
    "        \"\"\"\n",
    "        Apply white noise\n",
    "        \"\"\"\n",
    "        white_noise = generate_noise(self.db,self.num_samples) \n",
    "        \"\"\"\n",
    "        Apply non linearity\n",
    "        \"\"\"\n",
    "        noisy_signal = apply_nonlinear('tanh',conv_)+white_noise\n",
    "        \n",
    "        return noisy_signal,pure_signal\n",
    "    \n",
    "    def sliding_window(self,lst:np.array,steps:int)->np.array:\n",
    "        \"\"\"\n",
    "        Function to generate a sliding window\n",
    "        \"\"\"\n",
    "        p=[]\n",
    "        lst = lst.tolist()\n",
    "        lst = list(reversed(lst))\n",
    "        for i in range(len(lst)-(steps-1)):\n",
    "            p.append(list(reversed(lst[i:i+steps])))\n",
    "        return np.array(p)\n",
    "    \n",
    "    def generate_data_sliding_window(self,pure_signal,noisy_signal):\n",
    "        pure_signal = self.sliding_window(pure_signal,self.steps)\n",
    "        noisy_signal = self.sliding_window(noisy_signal,self.steps)   \n",
    "        return noisy_signal,pure_signal\n",
    "    \n",
    "    def __getitem__(self,idx):\n",
    "        noisy_sequence,pure_sequence = self.generate_sequence()\n",
    "        noisy_signal,pure_signal=self.generate_data_sliding_window(pure_sequence,noisy_sequence)\n",
    "\n",
    "        return noisy_sequence,\\\n",
    "                pure_sequence,\\\n",
    "                noisy_signal[idx*self.num_samples:(idx+1)*self.num_samples][None,:,:],\\\n",
    "                pure_signal[idx*self.num_samples:(idx+1)*self.num_samples][:,-1][:,None]"
   ]
  },
  {
   "cell_type": "code",
   "execution_count": 27,
   "id": "d0ec0f98",
   "metadata": {},
   "outputs": [],
   "source": [
    "train_data = EsnDataset(num_samples=train_num_samples,steps=steps,channel=channel)\n",
    "test_data = EsnDataset(num_samples=test_num_samples,steps=steps,channel=channel)"
   ]
  },
  {
   "cell_type": "code",
   "execution_count": 28,
   "id": "862d28f7",
   "metadata": {},
   "outputs": [],
   "source": [
    "train_sequence_x,train_sequence_y,train_x,train_y=iter(train_data).__next__()\n",
    "test_sequence_x,test_sequence_y,test_x,test_y=iter(test_data).__next__()"
   ]
  },
  {
   "cell_type": "code",
   "execution_count": 29,
   "id": "b5447856",
   "metadata": {},
   "outputs": [
    {
     "data": {
      "text/plain": [
       "((1, 4999, 2), (4999, 1))"
      ]
     },
     "execution_count": 29,
     "metadata": {},
     "output_type": "execute_result"
    }
   ],
   "source": [
    "train_x.shape,train_y.shape"
   ]
  },
  {
   "cell_type": "code",
   "execution_count": 30,
   "id": "239c016d",
   "metadata": {},
   "outputs": [
    {
     "data": {
      "text/plain": [
       "((1, 499, 2), (499, 1))"
      ]
     },
     "execution_count": 30,
     "metadata": {},
     "output_type": "execute_result"
    }
   ],
   "source": [
    "test_x.shape,test_y.shape"
   ]
  },
  {
   "cell_type": "code",
   "execution_count": 31,
   "id": "e1422c9e",
   "metadata": {},
   "outputs": [
    {
     "data": {
      "text/plain": [
       "<matplotlib.legend.Legend at 0x7fe04f2d2190>"
      ]
     },
     "execution_count": 31,
     "metadata": {},
     "output_type": "execute_result"
    },
    {
     "data": {
      "image/png": "[encoded data removed]",
      "text/plain": [
       "<Figure size 640x480 with 1 Axes>"
      ]
     },
     "metadata": {},
     "output_type": "display_data"
    }
   ],
   "source": [
    "plt.step(np.arange(len(train_sequence_x[:40])),train_sequence_x[:40])\n",
    "plt.step(np.arange(len(train_sequence_y[:40])),train_sequence_y[:40])\n",
    "plt.legend(['noisy_signal','pure_signal'])"
   ]
  },
  {
   "cell_type": "code",
   "execution_count": 32,
   "id": "fbb9454d",
   "metadata": {},
   "outputs": [
    {
     "name": "stderr",
     "output_type": "stream",
     "text": [
      "Running ESN-1: 100%|██████████████████████████████| 1/1 [00:00<00:00,  2.49it/s]"
     ]
    },
    {
     "name": "stdout",
     "output_type": "stream",
     "text": [
      "Fitting node ESN-1...\n"
     ]
    },
    {
     "name": "stderr",
     "output_type": "stream",
     "text": [
      "\n"
     ]
    },
    {
     "data": {
      "text/plain": [
       "'ESN-1': ESN('Reservoir-1', 'Ridge-1')"
      ]
     },
     "execution_count": 32,
     "metadata": {},
     "output_type": "execute_result"
    }
   ],
   "source": [
    "esn = ESN(lr=0.3,W=W,Win=Win,ridge = 1e-6)\n",
    "esn.fit(train_x,train_y)"
   ]
  },
  {
   "cell_type": "code",
   "execution_count": 33,
   "id": "99a1ec46",
   "metadata": {},
   "outputs": [
    {
     "name": "stderr",
     "output_type": "stream",
     "text": [
      "Running ESN-1: 100%|██████████████████████████████| 1/1 [00:00<00:00, 13.19it/s]\n"
     ]
    }
   ],
   "source": [
    "pred=esn.run(test_x)"
   ]
  },
  {
   "cell_type": "code",
   "execution_count": 34,
   "id": "c5e939f3",
   "metadata": {},
   "outputs": [
    {
     "data": {
      "text/plain": [
       "0.0002169463673766625"
      ]
     },
     "execution_count": 34,
     "metadata": {},
     "output_type": "execute_result"
    }
   ],
   "source": [
    "((pred-test_y)**2).mean()/len(pred)"
   ]
  },
  {
   "cell_type": "code",
   "execution_count": 35,
   "id": "8d1fcc28",
   "metadata": {},
   "outputs": [],
   "source": [
    "# units = 50\n",
    "# leak_rate = 0.3\n",
    "# spectral_radius = 0.9\n",
    "# input_scaling = 1.0\n",
    "# connectivity = 0.1\n",
    "# input_connectivity = 0.1\n",
    "# seed = 1234"
   ]
  },
  {
   "cell_type": "code",
   "execution_count": 36,
   "id": "a11d4426",
   "metadata": {},
   "outputs": [],
   "source": [
    "# from reservoirpy.nodes import FORCE\n",
    "\n",
    "# reservoir = Reservoir(\n",
    "#                       input_scaling=input_scaling,\\\n",
    "#                       sr=spectral_radius,\n",
    "#                       lr=leak_rate, \n",
    "# #                       ?rc_connectivity=connectivity,\n",
    "#                       input_connectivity=input_connectivity, \n",
    "#                       Win=Win,\n",
    "#                       W=W,\n",
    "#                       seed=seed)\n",
    "\n",
    "# readout   = FORCE(1)\n",
    "\n",
    "\n",
    "# esn_online = reservoir >> readout"
   ]
  },
  {
   "cell_type": "code",
   "execution_count": null,
   "id": "2e306e7e",
   "metadata": {},
   "outputs": [],
   "source": [
    "\n",
    "    \n",
    "    "
   ]
  }
 ],
 "metadata": {
  "kernelspec": {
   "display_name": "Python 3 (ipykernel)",
   "language": "python",
   "name": "python3"
  },
  "language_info": {
   "codemirror_mode": {
    "name": "ipython",
    "version": 3
   },
   "file_extension": ".py",
   "mimetype": "text/x-python",
   "name": "python",
   "nbconvert_exporter": "python",
   "pygments_lexer": "ipython3",
   "version": "3.9.13"
  }
 },
 "nbformat": 4,
 "nbformat_minor": 5
}
